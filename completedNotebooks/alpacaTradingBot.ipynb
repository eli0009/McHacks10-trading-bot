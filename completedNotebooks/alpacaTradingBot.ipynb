{
 "cells": [
  {
   "cell_type": "markdown",
   "metadata": {},
   "source": [
    "# Inputs"
   ]
  },
  {
   "cell_type": "code",
   "execution_count": 8,
   "metadata": {},
   "outputs": [],
   "source": [
    "# File paths\n",
    "credentialsPath = \"./credentials/credentials.json\""
   ]
  },
  {
   "cell_type": "markdown",
   "metadata": {},
   "source": [
    "# Imports"
   ]
  },
  {
   "cell_type": "code",
   "execution_count": 9,
   "metadata": {},
   "outputs": [],
   "source": [
    "import json\n",
    "\n",
    "# Importing the API \n",
    "from alpaca.trading.client import TradingClient\n",
    "\n",
    "# Importing the necessary apis for making a buy order\n",
    "from alpaca.trading.requests import MarketOrderRequest\n",
    "from alpaca.trading.enums import OrderSide, TimeInForce"
   ]
  },
  {
   "cell_type": "markdown",
   "metadata": {},
   "source": [
    "# Creating Trading Client"
   ]
  },
  {
   "cell_type": "code",
   "execution_count": 10,
   "metadata": {},
   "outputs": [],
   "source": [
    "# Instantiating the REST client according to the keys\n",
    "with open(credentialsPath, 'r') as jsonfile:\n",
    "    data = json.load(jsonfile)\n",
    "    USERNAME = data[\"username\"]\n",
    "    PASSWORD = data[\"password\"]\n",
    "    API_KEY = data[\"api_key\"]\n",
    "    API_SECRET = data[\"api_secret\"]\n",
    "\n",
    "#Creating a paper trading client\n",
    "trading_client = TradingClient(API_KEY, API_SECRET, paper=True)"
   ]
  },
  {
   "cell_type": "markdown",
   "metadata": {},
   "source": [
    "Buying power can be found inside one’s account information. Use the get_account method on the trading client and print the result to show your account information."
   ]
  },
  {
   "cell_type": "code",
   "execution_count": 11,
   "metadata": {},
   "outputs": [
    {
     "name": "stdout",
     "output_type": "stream",
     "text": [
      "\"id\": d55b73fd-4529-4c64-b49b-63725115f162\n",
      "\"account_number\": PA381FUGCRMS\n",
      "\"status\": AccountStatus.ACTIVE\n",
      "\"crypto_status\": AccountStatus.ACTIVE\n",
      "\"currency\": USD\n",
      "\"buying_power\": 200000\n",
      "\"regt_buying_power\": 200000\n",
      "\"daytrading_buying_power\": 0\n",
      "\"non_marginable_buying_power\": 100000\n",
      "\"cash\": 100000\n",
      "\"accrued_fees\": 0\n",
      "\"pending_transfer_out\": None\n",
      "\"pending_transfer_in\": 0\n",
      "\"portfolio_value\": 100000\n",
      "\"pattern_day_trader\": False\n",
      "\"trading_blocked\": False\n",
      "\"transfers_blocked\": False\n",
      "\"account_blocked\": False\n",
      "\"created_at\": 2023-01-28 20:17:19.580494+00:00\n",
      "\"trade_suspended_by_user\": False\n",
      "\"multiplier\": 2\n",
      "\"shorting_enabled\": True\n",
      "\"equity\": 100000\n",
      "\"last_equity\": 100000\n",
      "\"long_market_value\": 0\n",
      "\"short_market_value\": 0\n",
      "\"initial_margin\": 0\n",
      "\"maintenance_margin\": 0\n",
      "\"last_maintenance_margin\": 0\n",
      "\"sma\": 0\n",
      "\"daytrade_count\": 0\n"
     ]
    }
   ],
   "source": [
    "account = trading_client.get_account()\n",
    "def printAccountProperties():\n",
    "    for property_name, value in account:\n",
    "        print(f\"\\\"{property_name}\\\": {value}\")"
   ]
  },
  {
   "cell_type": "code",
   "execution_count": 20,
   "metadata": {},
   "outputs": [
    {
     "name": "stdout",
     "output_type": "stream",
     "text": [
      "[]\n"
     ]
    }
   ],
   "source": [
    "# Get all open positions and print each of them\n",
    "def getAllPositions():\n",
    "    print(\"Getting Positions\")\n",
    "    \n",
    "    positions = trading_client.get_all_positions()\n",
    "    if not positions:\n",
    "        print(\"None\")\n",
    "        return \n",
    "    \n",
    "    for position in positions:\n",
    "        for property_name, value in position:\n",
    "            print(f\"\\\"{property_name}\\\": {value}\")\n",
    "            \n",
    "    print(\"Done\")"
   ]
  }
 ],
 "metadata": {
  "kernelspec": {
   "display_name": "Python 3 (ipykernel)",
   "language": "python",
   "name": "python3"
  },
  "language_info": {
   "codemirror_mode": {
    "name": "ipython",
    "version": 3
   },
   "file_extension": ".py",
   "mimetype": "text/x-python",
   "name": "python",
   "nbconvert_exporter": "python",
   "pygments_lexer": "ipython3",
   "version": "3.9.7"
  },
  "vscode": {
   "interpreter": {
    "hash": "f494e4dede19822f14d23499f2e02d62d4fd5396e212ebea84d694ddb12f0309"
   }
  }
 },
 "nbformat": 4,
 "nbformat_minor": 2
}
