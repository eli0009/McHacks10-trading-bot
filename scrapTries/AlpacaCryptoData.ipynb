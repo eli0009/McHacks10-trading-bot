{
 "cells": [
  {
   "cell_type": "code",
   "execution_count": null,
   "metadata": {},
   "outputs": [],
   "source": [
    "from alpaca.data.historical import CryptoHistoricalDataClient\n",
    "from alpaca.data.requests import CryptoBarsRequest\n",
    "from alpaca.data.timeframe import TimeFrame\n",
    "import datetime as dt\n",
    "from typing import List\n",
    "\n",
    "\n",
    "\n",
    "def setTimeFrame(__timeframe = \"hour\"):\n",
    "    if __timeframe.lower() == \"hour\":\n",
    "        tf = TimeFrame.Hour\n",
    "    elif __timeframe.lower() == \"day\":\n",
    "        tf = TimeFrame.Day\n",
    "    elif __timeframe.lower() == \"minute\":\n",
    "        tf = TimeFrame.Minute\n",
    "    elif __timeframe.lower() == \"week\":\n",
    "        tf = TimeFrame.Week\n",
    "    else:\n",
    "        raise ValueError(\"Unaccounted for timeframe. Please select from ['minute','hour','day','week']\")\n",
    "    return tf\n",
    "\n",
    "\n",
    "def setDateTime(__date:str, __dateFormat = r\"%Y-%m-%d\") -> dt.datetime:\n",
    "    return dt.datetime.strptime(__date,__dateFormat)\n",
    "\n",
    "\n",
    "\n",
    "def requestParams(__symbol:List[str] = SYMBOL, __startDate:dt.datetime = START_DATE,__endDate:dt.datetime = END_DATE, __timeFrame:TimeFrame = TIMEFRAME):\n",
    "    # Creating request object\n",
    "    request_params = CryptoBarsRequest(\n",
    "                            symbol_or_symbols=[__symbol],\n",
    "                            timeframe=TIMEFRAME,\n",
    "                            start=__startDate,\n",
    "                            end=__endDate\n",
    "                            )\n",
    "    return request_params\n",
    "\n",
    "def getHistoricData(__symbolOrSymbols:List[str], ):\n",
    "    # No keys required for crypto data\n",
    "    client = CryptoHistoricalDataClient()\n",
    "\n",
    "\n",
    "\n",
    "if __name__ == \"__main__\":\n",
    "    DATE_FORMAT = r\"%Y-%m-%d\"\n",
    "    #Inputs\n",
    "    SYMBOL = \"BTC/USD\"\n",
    "    TIMEFRAME = \"hour\"\n",
    "    START_DATE = \"\"\n",
    "    END_DATE = \"\"\n",
    "\n",
    "print()"
   ]
  }
 ],
 "metadata": {
  "kernelspec": {
   "display_name": "mcHacks10",
   "language": "python",
   "name": "python3"
  },
  "language_info": {
   "name": "python",
   "version": "3.11.0 | packaged by conda-forge | (main, Oct 25 2022, 06:12:32) [MSC v.1929 64 bit (AMD64)]"
  },
  "orig_nbformat": 4,
  "vscode": {
   "interpreter": {
    "hash": "f494e4dede19822f14d23499f2e02d62d4fd5396e212ebea84d694ddb12f0309"
   }
  }
 },
 "nbformat": 4,
 "nbformat_minor": 2
}
